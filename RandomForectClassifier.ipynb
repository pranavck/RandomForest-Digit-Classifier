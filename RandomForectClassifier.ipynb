{
 "cells": [
  {
   "cell_type": "code",
   "execution_count": 1,
   "id": "8beaa350",
   "metadata": {},
   "outputs": [],
   "source": [
    "import pandas as pd"
   ]
  },
  {
   "cell_type": "markdown",
   "id": "51a09f89",
   "metadata": {},
   "source": [
    "### fetching datas"
   ]
  },
  {
   "cell_type": "code",
   "execution_count": 4,
   "id": "54f1a3ae",
   "metadata": {},
   "outputs": [],
   "source": [
    "from sklearn.datasets import load_digits"
   ]
  },
  {
   "cell_type": "code",
   "execution_count": 5,
   "id": "0661d90d",
   "metadata": {},
   "outputs": [],
   "source": [
    "digits = load_digits()"
   ]
  },
  {
   "cell_type": "code",
   "execution_count": 6,
   "id": "2a47a4d6",
   "metadata": {},
   "outputs": [
    {
     "data": {
      "text/plain": [
       "['DESCR', 'data', 'feature_names', 'frame', 'images', 'target', 'target_names']"
      ]
     },
     "execution_count": 6,
     "metadata": {},
     "output_type": "execute_result"
    }
   ],
   "source": [
    "dir(digits)"
   ]
  },
  {
   "cell_type": "markdown",
   "id": "ab3e5101",
   "metadata": {},
   "source": [
    "#### making dataframe and prediction related values"
   ]
  },
  {
   "cell_type": "code",
   "execution_count": 8,
   "id": "a5f00231",
   "metadata": {},
   "outputs": [],
   "source": [
    "df = pd.DataFrame(digits.data)"
   ]
  },
  {
   "cell_type": "code",
   "execution_count": 10,
   "id": "656e861a",
   "metadata": {},
   "outputs": [],
   "source": [
    "df['target'] = digits.target"
   ]
  },
  {
   "cell_type": "code",
   "execution_count": 16,
   "id": "983b6ea0",
   "metadata": {},
   "outputs": [],
   "source": [
    "X = df.drop('target',axis='columns')"
   ]
  },
  {
   "cell_type": "code",
   "execution_count": 17,
   "id": "a9db7ffb",
   "metadata": {},
   "outputs": [],
   "source": [
    "y = df.target"
   ]
  },
  {
   "cell_type": "markdown",
   "id": "b148d464",
   "metadata": {},
   "source": [
    "#### importing RandomForestClassifier and train_test_split"
   ]
  },
  {
   "cell_type": "code",
   "execution_count": 32,
   "id": "cfe3d182",
   "metadata": {},
   "outputs": [],
   "source": [
    "from sklearn.model_selection import train_test_split"
   ]
  },
  {
   "cell_type": "code",
   "execution_count": 33,
   "id": "39d29711",
   "metadata": {},
   "outputs": [],
   "source": [
    "from sklearn.ensemble import RandomForestClassifier"
   ]
  },
  {
   "cell_type": "code",
   "execution_count": 34,
   "id": "38f5b3a2",
   "metadata": {},
   "outputs": [],
   "source": [
    "X_train , X_test,y_train,y_test = train_test_split(X , y, test_size=0.2)"
   ]
  },
  {
   "cell_type": "markdown",
   "id": "3232143a",
   "metadata": {},
   "source": [
    "#### model creation and prediction"
   ]
  },
  {
   "cell_type": "code",
   "execution_count": 43,
   "id": "5391d04c",
   "metadata": {},
   "outputs": [],
   "source": [
    "model = RandomForestClassifier()"
   ]
  },
  {
   "cell_type": "code",
   "execution_count": 44,
   "id": "e1a68cc3",
   "metadata": {
    "scrolled": true
   },
   "outputs": [
    {
     "data": {
      "text/html": [
       "<style>#sk-container-id-5 {color: black;}#sk-container-id-5 pre{padding: 0;}#sk-container-id-5 div.sk-toggleable {background-color: white;}#sk-container-id-5 label.sk-toggleable__label {cursor: pointer;display: block;width: 100%;margin-bottom: 0;padding: 0.3em;box-sizing: border-box;text-align: center;}#sk-container-id-5 label.sk-toggleable__label-arrow:before {content: \"▸\";float: left;margin-right: 0.25em;color: #696969;}#sk-container-id-5 label.sk-toggleable__label-arrow:hover:before {color: black;}#sk-container-id-5 div.sk-estimator:hover label.sk-toggleable__label-arrow:before {color: black;}#sk-container-id-5 div.sk-toggleable__content {max-height: 0;max-width: 0;overflow: hidden;text-align: left;background-color: #f0f8ff;}#sk-container-id-5 div.sk-toggleable__content pre {margin: 0.2em;color: black;border-radius: 0.25em;background-color: #f0f8ff;}#sk-container-id-5 input.sk-toggleable__control:checked~div.sk-toggleable__content {max-height: 200px;max-width: 100%;overflow: auto;}#sk-container-id-5 input.sk-toggleable__control:checked~label.sk-toggleable__label-arrow:before {content: \"▾\";}#sk-container-id-5 div.sk-estimator input.sk-toggleable__control:checked~label.sk-toggleable__label {background-color: #d4ebff;}#sk-container-id-5 div.sk-label input.sk-toggleable__control:checked~label.sk-toggleable__label {background-color: #d4ebff;}#sk-container-id-5 input.sk-hidden--visually {border: 0;clip: rect(1px 1px 1px 1px);clip: rect(1px, 1px, 1px, 1px);height: 1px;margin: -1px;overflow: hidden;padding: 0;position: absolute;width: 1px;}#sk-container-id-5 div.sk-estimator {font-family: monospace;background-color: #f0f8ff;border: 1px dotted black;border-radius: 0.25em;box-sizing: border-box;margin-bottom: 0.5em;}#sk-container-id-5 div.sk-estimator:hover {background-color: #d4ebff;}#sk-container-id-5 div.sk-parallel-item::after {content: \"\";width: 100%;border-bottom: 1px solid gray;flex-grow: 1;}#sk-container-id-5 div.sk-label:hover label.sk-toggleable__label {background-color: #d4ebff;}#sk-container-id-5 div.sk-serial::before {content: \"\";position: absolute;border-left: 1px solid gray;box-sizing: border-box;top: 0;bottom: 0;left: 50%;z-index: 0;}#sk-container-id-5 div.sk-serial {display: flex;flex-direction: column;align-items: center;background-color: white;padding-right: 0.2em;padding-left: 0.2em;position: relative;}#sk-container-id-5 div.sk-item {position: relative;z-index: 1;}#sk-container-id-5 div.sk-parallel {display: flex;align-items: stretch;justify-content: center;background-color: white;position: relative;}#sk-container-id-5 div.sk-item::before, #sk-container-id-5 div.sk-parallel-item::before {content: \"\";position: absolute;border-left: 1px solid gray;box-sizing: border-box;top: 0;bottom: 0;left: 50%;z-index: -1;}#sk-container-id-5 div.sk-parallel-item {display: flex;flex-direction: column;z-index: 1;position: relative;background-color: white;}#sk-container-id-5 div.sk-parallel-item:first-child::after {align-self: flex-end;width: 50%;}#sk-container-id-5 div.sk-parallel-item:last-child::after {align-self: flex-start;width: 50%;}#sk-container-id-5 div.sk-parallel-item:only-child::after {width: 0;}#sk-container-id-5 div.sk-dashed-wrapped {border: 1px dashed gray;margin: 0 0.4em 0.5em 0.4em;box-sizing: border-box;padding-bottom: 0.4em;background-color: white;}#sk-container-id-5 div.sk-label label {font-family: monospace;font-weight: bold;display: inline-block;line-height: 1.2em;}#sk-container-id-5 div.sk-label-container {text-align: center;}#sk-container-id-5 div.sk-container {/* jupyter's `normalize.less` sets `[hidden] { display: none; }` but bootstrap.min.css set `[hidden] { display: none !important; }` so we also need the `!important` here to be able to override the default hidden behavior on the sphinx rendered scikit-learn.org. See: https://github.com/scikit-learn/scikit-learn/issues/21755 */display: inline-block !important;position: relative;}#sk-container-id-5 div.sk-text-repr-fallback {display: none;}</style><div id=\"sk-container-id-5\" class=\"sk-top-container\"><div class=\"sk-text-repr-fallback\"><pre>RandomForestClassifier()</pre><b>In a Jupyter environment, please rerun this cell to show the HTML representation or trust the notebook. <br />On GitHub, the HTML representation is unable to render, please try loading this page with nbviewer.org.</b></div><div class=\"sk-container\" hidden><div class=\"sk-item\"><div class=\"sk-estimator sk-toggleable\"><input class=\"sk-toggleable__control sk-hidden--visually\" id=\"sk-estimator-id-5\" type=\"checkbox\" checked><label for=\"sk-estimator-id-5\" class=\"sk-toggleable__label sk-toggleable__label-arrow\">RandomForestClassifier</label><div class=\"sk-toggleable__content\"><pre>RandomForestClassifier()</pre></div></div></div></div></div>"
      ],
      "text/plain": [
       "RandomForestClassifier()"
      ]
     },
     "execution_count": 44,
     "metadata": {},
     "output_type": "execute_result"
    }
   ],
   "source": [
    "model.fit(X_train,y_train)"
   ]
  },
  {
   "cell_type": "code",
   "execution_count": 45,
   "id": "013fb626",
   "metadata": {},
   "outputs": [
    {
     "data": {
      "text/plain": [
       "1.0"
      ]
     },
     "execution_count": 45,
     "metadata": {},
     "output_type": "execute_result"
    }
   ],
   "source": [
    "model.score(X_train, y_train)"
   ]
  },
  {
   "cell_type": "code",
   "execution_count": 42,
   "id": "cf4c6117",
   "metadata": {},
   "outputs": [
    {
     "data": {
      "text/plain": [
       "array([5, 5, 5, 1, 8, 8, 0, 4, 8, 3, 0, 9, 3, 5, 1, 6, 5, 4, 6, 8, 5, 5,\n",
       "       9, 4, 8, 1, 6, 4, 8, 4, 4, 3, 4, 9, 0, 0, 0, 3, 9, 6, 0, 7, 2, 5,\n",
       "       0, 0, 6, 9, 6, 0, 0, 7, 2, 7, 4, 7, 5, 8, 0, 2, 2, 1, 7, 8, 0, 2,\n",
       "       9, 0, 0, 8, 3, 4, 2, 1, 1, 0, 1, 4, 5, 6, 4, 5, 4, 8, 8, 0, 7, 3,\n",
       "       5, 0, 1, 1, 4, 0, 0, 4, 1, 1, 6, 8, 7, 3, 6, 1, 9, 0, 7, 1, 6, 6,\n",
       "       1, 7, 0, 1, 3, 6, 6, 6, 3, 0, 7, 4, 3, 7, 4, 7, 8, 0, 8, 0, 2, 9,\n",
       "       9, 3, 3, 4, 3, 0, 0, 9, 1, 7, 7, 0, 7, 7, 2, 1, 9, 3, 7, 9, 6, 2,\n",
       "       5, 3, 7, 8, 9, 6, 6, 8, 2, 7, 9, 7, 5, 6, 6, 8, 0, 0, 4, 6, 3, 9,\n",
       "       6, 1, 8, 6, 2, 2, 0, 7, 6, 3, 3, 3, 9, 6, 9, 7, 4, 3, 4, 8, 9, 2,\n",
       "       2, 3, 3, 4, 1, 5, 6, 9, 4, 9, 2, 5, 2, 9, 2, 2, 3, 8, 4, 1, 0, 2,\n",
       "       0, 9, 2, 8, 3, 2, 9, 6, 8, 0, 1, 6, 6, 7, 5, 5, 5, 9, 0, 0, 8, 1,\n",
       "       6, 1, 6, 5, 6, 3, 0, 0, 4, 7, 6, 4, 9, 7, 5, 7, 6, 9, 2, 4, 5, 7,\n",
       "       3, 8, 7, 0, 3, 1, 9, 6, 9, 4, 3, 3, 1, 4, 6, 6, 2, 5, 8, 2, 1, 2,\n",
       "       1, 9, 0, 2, 1, 9, 7, 6, 1, 1, 6, 5, 2, 4, 1, 7, 7, 4, 6, 7, 1, 5,\n",
       "       2, 4, 7, 1, 9, 1, 1, 8, 6, 0, 7, 2, 4, 0, 7, 9, 7, 4, 9, 3, 7, 6,\n",
       "       9, 8, 2, 4, 4, 6, 0, 3, 2, 8, 7, 9, 9, 3, 2, 7, 7, 2, 3, 1, 9, 6,\n",
       "       0, 3, 6, 0, 4, 0, 2, 4])"
      ]
     },
     "execution_count": 42,
     "metadata": {},
     "output_type": "execute_result"
    }
   ],
   "source": [
    "model.predict(X_test)"
   ]
  },
  {
   "cell_type": "code",
   "execution_count": null,
   "id": "da6cfa34",
   "metadata": {},
   "outputs": [],
   "source": []
  }
 ],
 "metadata": {
  "kernelspec": {
   "display_name": "Python 3 (ipykernel)",
   "language": "python",
   "name": "python3"
  },
  "language_info": {
   "codemirror_mode": {
    "name": "ipython",
    "version": 3
   },
   "file_extension": ".py",
   "mimetype": "text/x-python",
   "name": "python",
   "nbconvert_exporter": "python",
   "pygments_lexer": "ipython3",
   "version": "3.11.5"
  }
 },
 "nbformat": 4,
 "nbformat_minor": 5
}
